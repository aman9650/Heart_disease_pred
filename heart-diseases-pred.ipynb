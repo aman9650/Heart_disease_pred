{
 "cells": [
  {
   "cell_type": "raw",
   "id": "af1ce9c2",
   "metadata": {
    "papermill": {
     "duration": 0.014409,
     "end_time": "2023-07-30T09:33:51.175923",
     "exception": false,
     "start_time": "2023-07-30T09:33:51.161514",
     "status": "completed"
    },
    "tags": []
   },
   "source": []
  },
  {
   "cell_type": "code",
   "execution_count": 1,
   "id": "5a25c5df",
   "metadata": {
    "_cell_guid": "b1076dfc-b9ad-4769-8c92-a6c4dae69d19",
    "_uuid": "8f2839f25d086af736a60e9eeb907d3b93b6e0e5",
    "execution": {
     "iopub.execute_input": "2023-07-30T09:33:51.206664Z",
     "iopub.status.busy": "2023-07-30T09:33:51.206045Z",
     "iopub.status.idle": "2023-07-30T09:33:51.229697Z",
     "shell.execute_reply": "2023-07-30T09:33:51.227886Z"
    },
    "papermill": {
     "duration": 0.041804,
     "end_time": "2023-07-30T09:33:51.231964",
     "exception": false,
     "start_time": "2023-07-30T09:33:51.190160",
     "status": "completed"
    },
    "tags": []
   },
   "outputs": [
    {
     "name": "stdout",
     "output_type": "stream",
     "text": [
      "/kaggle/input/heart-disease-classification-dataset/Heart Attack.csv\n"
     ]
    }
   ],
   "source": [
    "# This Python 3 environment comes with many helpful analytics libraries installed\n",
    "# It is defined by the kaggle/python Docker image: https://github.com/kaggle/docker-python\n",
    "# For example, here's several helpful packages to load\n",
    "\n",
    "import numpy as np # linear algebra\n",
    "import pandas as pd # data processing, CSV file I/O (e.g. pd.read_csv)\n",
    "\n",
    "# Input data files are available in the read-only \"../input/\" directory\n",
    "# For example, running this (by clicking run or pressing Shift+Enter) will list all files under the input directory\n",
    "\n",
    "import os\n",
    "for dirname, _, filenames in os.walk('/kaggle/input'):\n",
    "    for filename in filenames:\n",
    "        print(os.path.join(dirname, filename))\n",
    "\n",
    "# You can write up to 20GB to the current directory (/kaggle/working/) that gets preserved as output when you create a version using \"Save & Run All\" \n",
    "# You can also write temporary files to /kaggle/temp/, but they won't be saved outside of the current session"
   ]
  },
  {
   "cell_type": "code",
   "execution_count": 2,
   "id": "3b9dee4c",
   "metadata": {
    "execution": {
     "iopub.execute_input": "2023-07-30T09:33:51.263385Z",
     "iopub.status.busy": "2023-07-30T09:33:51.262277Z",
     "iopub.status.idle": "2023-07-30T09:33:52.731449Z",
     "shell.execute_reply": "2023-07-30T09:33:52.730120Z"
    },
    "papermill": {
     "duration": 1.488605,
     "end_time": "2023-07-30T09:33:52.734307",
     "exception": false,
     "start_time": "2023-07-30T09:33:51.245702",
     "status": "completed"
    },
    "tags": []
   },
   "outputs": [
    {
     "name": "stderr",
     "output_type": "stream",
     "text": [
      "/opt/conda/lib/python3.10/site-packages/scipy/__init__.py:146: UserWarning: A NumPy version >=1.16.5 and <1.23.0 is required for this version of SciPy (detected version 1.23.5\n",
      "  warnings.warn(f\"A NumPy version >={np_minversion} and <{np_maxversion}\"\n"
     ]
    }
   ],
   "source": [
    "import pandas as pd\n",
    "import numpy as np\n",
    "import seaborn as sns\n",
    "import matplotlib.pyplot as plt"
   ]
  },
  {
   "cell_type": "code",
   "execution_count": 3,
   "id": "7dbd293e",
   "metadata": {
    "execution": {
     "iopub.execute_input": "2023-07-30T09:33:52.764181Z",
     "iopub.status.busy": "2023-07-30T09:33:52.763699Z",
     "iopub.status.idle": "2023-07-30T09:33:52.790155Z",
     "shell.execute_reply": "2023-07-30T09:33:52.788857Z"
    },
    "papermill": {
     "duration": 0.044646,
     "end_time": "2023-07-30T09:33:52.793126",
     "exception": false,
     "start_time": "2023-07-30T09:33:52.748480",
     "status": "completed"
    },
    "tags": []
   },
   "outputs": [],
   "source": [
    "data=pd.read_csv(\"/kaggle/input/heart-disease-classification-dataset/Heart Attack.csv\")"
   ]
  },
  {
   "cell_type": "code",
   "execution_count": 4,
   "id": "459ca1ec",
   "metadata": {
    "execution": {
     "iopub.execute_input": "2023-07-30T09:33:52.823806Z",
     "iopub.status.busy": "2023-07-30T09:33:52.823297Z",
     "iopub.status.idle": "2023-07-30T09:33:52.851797Z",
     "shell.execute_reply": "2023-07-30T09:33:52.850634Z"
    },
    "papermill": {
     "duration": 0.046829,
     "end_time": "2023-07-30T09:33:52.854199",
     "exception": false,
     "start_time": "2023-07-30T09:33:52.807370",
     "status": "completed"
    },
    "tags": []
   },
   "outputs": [
    {
     "data": {
      "text/html": [
       "<div>\n",
       "<style scoped>\n",
       "    .dataframe tbody tr th:only-of-type {\n",
       "        vertical-align: middle;\n",
       "    }\n",
       "\n",
       "    .dataframe tbody tr th {\n",
       "        vertical-align: top;\n",
       "    }\n",
       "\n",
       "    .dataframe thead th {\n",
       "        text-align: right;\n",
       "    }\n",
       "</style>\n",
       "<table border=\"1\" class=\"dataframe\">\n",
       "  <thead>\n",
       "    <tr style=\"text-align: right;\">\n",
       "      <th></th>\n",
       "      <th>age</th>\n",
       "      <th>gender</th>\n",
       "      <th>impluse</th>\n",
       "      <th>pressurehight</th>\n",
       "      <th>pressurelow</th>\n",
       "      <th>glucose</th>\n",
       "      <th>kcm</th>\n",
       "      <th>troponin</th>\n",
       "      <th>class</th>\n",
       "    </tr>\n",
       "  </thead>\n",
       "  <tbody>\n",
       "    <tr>\n",
       "      <th>0</th>\n",
       "      <td>64</td>\n",
       "      <td>1</td>\n",
       "      <td>66</td>\n",
       "      <td>160</td>\n",
       "      <td>83</td>\n",
       "      <td>160.0</td>\n",
       "      <td>1.80</td>\n",
       "      <td>0.012</td>\n",
       "      <td>negative</td>\n",
       "    </tr>\n",
       "    <tr>\n",
       "      <th>1</th>\n",
       "      <td>21</td>\n",
       "      <td>1</td>\n",
       "      <td>94</td>\n",
       "      <td>98</td>\n",
       "      <td>46</td>\n",
       "      <td>296.0</td>\n",
       "      <td>6.75</td>\n",
       "      <td>1.060</td>\n",
       "      <td>positive</td>\n",
       "    </tr>\n",
       "    <tr>\n",
       "      <th>2</th>\n",
       "      <td>55</td>\n",
       "      <td>1</td>\n",
       "      <td>64</td>\n",
       "      <td>160</td>\n",
       "      <td>77</td>\n",
       "      <td>270.0</td>\n",
       "      <td>1.99</td>\n",
       "      <td>0.003</td>\n",
       "      <td>negative</td>\n",
       "    </tr>\n",
       "    <tr>\n",
       "      <th>3</th>\n",
       "      <td>64</td>\n",
       "      <td>1</td>\n",
       "      <td>70</td>\n",
       "      <td>120</td>\n",
       "      <td>55</td>\n",
       "      <td>270.0</td>\n",
       "      <td>13.87</td>\n",
       "      <td>0.122</td>\n",
       "      <td>positive</td>\n",
       "    </tr>\n",
       "    <tr>\n",
       "      <th>4</th>\n",
       "      <td>55</td>\n",
       "      <td>1</td>\n",
       "      <td>64</td>\n",
       "      <td>112</td>\n",
       "      <td>65</td>\n",
       "      <td>300.0</td>\n",
       "      <td>1.08</td>\n",
       "      <td>0.003</td>\n",
       "      <td>negative</td>\n",
       "    </tr>\n",
       "  </tbody>\n",
       "</table>\n",
       "</div>"
      ],
      "text/plain": [
       "   age  gender  impluse  pressurehight  pressurelow  glucose    kcm  troponin  \\\n",
       "0   64       1       66            160           83    160.0   1.80     0.012   \n",
       "1   21       1       94             98           46    296.0   6.75     1.060   \n",
       "2   55       1       64            160           77    270.0   1.99     0.003   \n",
       "3   64       1       70            120           55    270.0  13.87     0.122   \n",
       "4   55       1       64            112           65    300.0   1.08     0.003   \n",
       "\n",
       "      class  \n",
       "0  negative  \n",
       "1  positive  \n",
       "2  negative  \n",
       "3  positive  \n",
       "4  negative  "
      ]
     },
     "execution_count": 4,
     "metadata": {},
     "output_type": "execute_result"
    }
   ],
   "source": [
    "data.head()"
   ]
  },
  {
   "cell_type": "code",
   "execution_count": 5,
   "id": "927908bd",
   "metadata": {
    "execution": {
     "iopub.execute_input": "2023-07-30T09:33:52.883988Z",
     "iopub.status.busy": "2023-07-30T09:33:52.883490Z",
     "iopub.status.idle": "2023-07-30T09:33:52.890432Z",
     "shell.execute_reply": "2023-07-30T09:33:52.889635Z"
    },
    "papermill": {
     "duration": 0.024352,
     "end_time": "2023-07-30T09:33:52.892481",
     "exception": false,
     "start_time": "2023-07-30T09:33:52.868129",
     "status": "completed"
    },
    "tags": []
   },
   "outputs": [
    {
     "data": {
      "text/plain": [
       "(1319, 9)"
      ]
     },
     "execution_count": 5,
     "metadata": {},
     "output_type": "execute_result"
    }
   ],
   "source": [
    "data.shape"
   ]
  },
  {
   "cell_type": "code",
   "execution_count": 6,
   "id": "3c3d232f",
   "metadata": {
    "execution": {
     "iopub.execute_input": "2023-07-30T09:33:52.922823Z",
     "iopub.status.busy": "2023-07-30T09:33:52.922003Z",
     "iopub.status.idle": "2023-07-30T09:33:52.951166Z",
     "shell.execute_reply": "2023-07-30T09:33:52.950260Z"
    },
    "papermill": {
     "duration": 0.047285,
     "end_time": "2023-07-30T09:33:52.953510",
     "exception": false,
     "start_time": "2023-07-30T09:33:52.906225",
     "status": "completed"
    },
    "tags": []
   },
   "outputs": [
    {
     "name": "stdout",
     "output_type": "stream",
     "text": [
      "<class 'pandas.core.frame.DataFrame'>\n",
      "RangeIndex: 1319 entries, 0 to 1318\n",
      "Data columns (total 9 columns):\n",
      " #   Column         Non-Null Count  Dtype  \n",
      "---  ------         --------------  -----  \n",
      " 0   age            1319 non-null   int64  \n",
      " 1   gender         1319 non-null   int64  \n",
      " 2   impluse        1319 non-null   int64  \n",
      " 3   pressurehight  1319 non-null   int64  \n",
      " 4   pressurelow    1319 non-null   int64  \n",
      " 5   glucose        1319 non-null   float64\n",
      " 6   kcm            1319 non-null   float64\n",
      " 7   troponin       1319 non-null   float64\n",
      " 8   class          1319 non-null   object \n",
      "dtypes: float64(3), int64(5), object(1)\n",
      "memory usage: 92.9+ KB\n"
     ]
    }
   ],
   "source": [
    "data.info()"
   ]
  },
  {
   "cell_type": "code",
   "execution_count": 7,
   "id": "af0227eb",
   "metadata": {
    "execution": {
     "iopub.execute_input": "2023-07-30T09:33:52.984375Z",
     "iopub.status.busy": "2023-07-30T09:33:52.983618Z",
     "iopub.status.idle": "2023-07-30T09:33:52.994443Z",
     "shell.execute_reply": "2023-07-30T09:33:52.993001Z"
    },
    "papermill": {
     "duration": 0.029065,
     "end_time": "2023-07-30T09:33:52.996692",
     "exception": false,
     "start_time": "2023-07-30T09:33:52.967627",
     "status": "completed"
    },
    "tags": []
   },
   "outputs": [
    {
     "data": {
      "text/plain": [
       "age              0\n",
       "gender           0\n",
       "impluse          0\n",
       "pressurehight    0\n",
       "pressurelow      0\n",
       "glucose          0\n",
       "kcm              0\n",
       "troponin         0\n",
       "class            0\n",
       "dtype: int64"
      ]
     },
     "execution_count": 7,
     "metadata": {},
     "output_type": "execute_result"
    }
   ],
   "source": [
    "data.isnull().sum()"
   ]
  },
  {
   "cell_type": "code",
   "execution_count": 8,
   "id": "b0a88e8a",
   "metadata": {
    "execution": {
     "iopub.execute_input": "2023-07-30T09:33:53.027518Z",
     "iopub.status.busy": "2023-07-30T09:33:53.027046Z",
     "iopub.status.idle": "2023-07-30T09:33:53.068187Z",
     "shell.execute_reply": "2023-07-30T09:33:53.066797Z"
    },
    "papermill": {
     "duration": 0.060059,
     "end_time": "2023-07-30T09:33:53.071133",
     "exception": false,
     "start_time": "2023-07-30T09:33:53.011074",
     "status": "completed"
    },
    "tags": []
   },
   "outputs": [
    {
     "data": {
      "text/html": [
       "<div>\n",
       "<style scoped>\n",
       "    .dataframe tbody tr th:only-of-type {\n",
       "        vertical-align: middle;\n",
       "    }\n",
       "\n",
       "    .dataframe tbody tr th {\n",
       "        vertical-align: top;\n",
       "    }\n",
       "\n",
       "    .dataframe thead th {\n",
       "        text-align: right;\n",
       "    }\n",
       "</style>\n",
       "<table border=\"1\" class=\"dataframe\">\n",
       "  <thead>\n",
       "    <tr style=\"text-align: right;\">\n",
       "      <th></th>\n",
       "      <th>age</th>\n",
       "      <th>gender</th>\n",
       "      <th>impluse</th>\n",
       "      <th>pressurehight</th>\n",
       "      <th>pressurelow</th>\n",
       "      <th>glucose</th>\n",
       "      <th>kcm</th>\n",
       "      <th>troponin</th>\n",
       "    </tr>\n",
       "  </thead>\n",
       "  <tbody>\n",
       "    <tr>\n",
       "      <th>count</th>\n",
       "      <td>1319.000000</td>\n",
       "      <td>1319.000000</td>\n",
       "      <td>1319.000000</td>\n",
       "      <td>1319.000000</td>\n",
       "      <td>1319.000000</td>\n",
       "      <td>1319.000000</td>\n",
       "      <td>1319.000000</td>\n",
       "      <td>1319.000000</td>\n",
       "    </tr>\n",
       "    <tr>\n",
       "      <th>mean</th>\n",
       "      <td>56.191812</td>\n",
       "      <td>0.659591</td>\n",
       "      <td>78.336619</td>\n",
       "      <td>127.170584</td>\n",
       "      <td>72.269143</td>\n",
       "      <td>146.634344</td>\n",
       "      <td>15.274306</td>\n",
       "      <td>0.360942</td>\n",
       "    </tr>\n",
       "    <tr>\n",
       "      <th>std</th>\n",
       "      <td>13.647315</td>\n",
       "      <td>0.474027</td>\n",
       "      <td>51.630270</td>\n",
       "      <td>26.122720</td>\n",
       "      <td>14.033924</td>\n",
       "      <td>74.923045</td>\n",
       "      <td>46.327083</td>\n",
       "      <td>1.154568</td>\n",
       "    </tr>\n",
       "    <tr>\n",
       "      <th>min</th>\n",
       "      <td>14.000000</td>\n",
       "      <td>0.000000</td>\n",
       "      <td>20.000000</td>\n",
       "      <td>42.000000</td>\n",
       "      <td>38.000000</td>\n",
       "      <td>35.000000</td>\n",
       "      <td>0.321000</td>\n",
       "      <td>0.001000</td>\n",
       "    </tr>\n",
       "    <tr>\n",
       "      <th>25%</th>\n",
       "      <td>47.000000</td>\n",
       "      <td>0.000000</td>\n",
       "      <td>64.000000</td>\n",
       "      <td>110.000000</td>\n",
       "      <td>62.000000</td>\n",
       "      <td>98.000000</td>\n",
       "      <td>1.655000</td>\n",
       "      <td>0.006000</td>\n",
       "    </tr>\n",
       "    <tr>\n",
       "      <th>50%</th>\n",
       "      <td>58.000000</td>\n",
       "      <td>1.000000</td>\n",
       "      <td>74.000000</td>\n",
       "      <td>124.000000</td>\n",
       "      <td>72.000000</td>\n",
       "      <td>116.000000</td>\n",
       "      <td>2.850000</td>\n",
       "      <td>0.014000</td>\n",
       "    </tr>\n",
       "    <tr>\n",
       "      <th>75%</th>\n",
       "      <td>65.000000</td>\n",
       "      <td>1.000000</td>\n",
       "      <td>85.000000</td>\n",
       "      <td>143.000000</td>\n",
       "      <td>81.000000</td>\n",
       "      <td>169.500000</td>\n",
       "      <td>5.805000</td>\n",
       "      <td>0.085500</td>\n",
       "    </tr>\n",
       "    <tr>\n",
       "      <th>max</th>\n",
       "      <td>103.000000</td>\n",
       "      <td>1.000000</td>\n",
       "      <td>1111.000000</td>\n",
       "      <td>223.000000</td>\n",
       "      <td>154.000000</td>\n",
       "      <td>541.000000</td>\n",
       "      <td>300.000000</td>\n",
       "      <td>10.300000</td>\n",
       "    </tr>\n",
       "  </tbody>\n",
       "</table>\n",
       "</div>"
      ],
      "text/plain": [
       "               age       gender      impluse  pressurehight  pressurelow  \\\n",
       "count  1319.000000  1319.000000  1319.000000    1319.000000  1319.000000   \n",
       "mean     56.191812     0.659591    78.336619     127.170584    72.269143   \n",
       "std      13.647315     0.474027    51.630270      26.122720    14.033924   \n",
       "min      14.000000     0.000000    20.000000      42.000000    38.000000   \n",
       "25%      47.000000     0.000000    64.000000     110.000000    62.000000   \n",
       "50%      58.000000     1.000000    74.000000     124.000000    72.000000   \n",
       "75%      65.000000     1.000000    85.000000     143.000000    81.000000   \n",
       "max     103.000000     1.000000  1111.000000     223.000000   154.000000   \n",
       "\n",
       "           glucose          kcm     troponin  \n",
       "count  1319.000000  1319.000000  1319.000000  \n",
       "mean    146.634344    15.274306     0.360942  \n",
       "std      74.923045    46.327083     1.154568  \n",
       "min      35.000000     0.321000     0.001000  \n",
       "25%      98.000000     1.655000     0.006000  \n",
       "50%     116.000000     2.850000     0.014000  \n",
       "75%     169.500000     5.805000     0.085500  \n",
       "max     541.000000   300.000000    10.300000  "
      ]
     },
     "execution_count": 8,
     "metadata": {},
     "output_type": "execute_result"
    }
   ],
   "source": [
    "data.describe()"
   ]
  },
  {
   "cell_type": "code",
   "execution_count": 9,
   "id": "f3d4811b",
   "metadata": {
    "execution": {
     "iopub.execute_input": "2023-07-30T09:33:53.103945Z",
     "iopub.status.busy": "2023-07-30T09:33:53.102782Z",
     "iopub.status.idle": "2023-07-30T09:33:53.507212Z",
     "shell.execute_reply": "2023-07-30T09:33:53.505785Z"
    },
    "papermill": {
     "duration": 0.423381,
     "end_time": "2023-07-30T09:33:53.509682",
     "exception": true,
     "start_time": "2023-07-30T09:33:53.086301",
     "status": "failed"
    },
    "tags": []
   },
   "outputs": [
    {
     "ename": "ModuleNotFoundError",
     "evalue": "No module named 'sketch'",
     "output_type": "error",
     "traceback": [
      "\u001b[0;31m---------------------------------------------------------------------------\u001b[0m",
      "\u001b[0;31mModuleNotFoundError\u001b[0m                       Traceback (most recent call last)",
      "Cell \u001b[0;32mIn[9], line 1\u001b[0m\n\u001b[0;32m----> 1\u001b[0m \u001b[38;5;28;01mimport\u001b[39;00m \u001b[38;5;21;01msketch\u001b[39;00m\n",
      "\u001b[0;31mModuleNotFoundError\u001b[0m: No module named 'sketch'"
     ]
    }
   ],
   "source": [
    "import sketch"
   ]
  },
  {
   "cell_type": "code",
   "execution_count": null,
   "id": "cae5d132",
   "metadata": {
    "papermill": {
     "duration": null,
     "end_time": null,
     "exception": null,
     "start_time": null,
     "status": "pending"
    },
    "tags": []
   },
   "outputs": [],
   "source": []
  },
  {
   "cell_type": "code",
   "execution_count": null,
   "id": "efa5add8",
   "metadata": {
    "execution": {
     "iopub.execute_input": "2023-07-30T07:10:03.469374Z",
     "iopub.status.busy": "2023-07-30T07:10:03.468369Z",
     "iopub.status.idle": "2023-07-30T07:10:03.486689Z",
     "shell.execute_reply": "2023-07-30T07:10:03.485738Z",
     "shell.execute_reply.started": "2023-07-30T07:10:03.469341Z"
    },
    "papermill": {
     "duration": null,
     "end_time": null,
     "exception": null,
     "start_time": null,
     "status": "pending"
    },
    "tags": []
   },
   "outputs": [],
   "source": [
    "data['class'] = data['class'].apply(lambda x: 0 if x == 'negative' else 1)"
   ]
  },
  {
   "cell_type": "code",
   "execution_count": null,
   "id": "796e794b",
   "metadata": {
    "execution": {
     "iopub.execute_input": "2023-07-30T07:10:03.489197Z",
     "iopub.status.busy": "2023-07-30T07:10:03.488480Z",
     "iopub.status.idle": "2023-07-30T07:10:03.511467Z",
     "shell.execute_reply": "2023-07-30T07:10:03.510297Z",
     "shell.execute_reply.started": "2023-07-30T07:10:03.489154Z"
    },
    "papermill": {
     "duration": null,
     "end_time": null,
     "exception": null,
     "start_time": null,
     "status": "pending"
    },
    "tags": []
   },
   "outputs": [],
   "source": [
    "data.head()"
   ]
  },
  {
   "cell_type": "code",
   "execution_count": null,
   "id": "cb273280",
   "metadata": {
    "execution": {
     "iopub.execute_input": "2023-07-30T07:10:03.514368Z",
     "iopub.status.busy": "2023-07-30T07:10:03.513839Z",
     "iopub.status.idle": "2023-07-30T07:10:04.785230Z",
     "shell.execute_reply": "2023-07-30T07:10:04.784051Z",
     "shell.execute_reply.started": "2023-07-30T07:10:03.514334Z"
    },
    "papermill": {
     "duration": null,
     "end_time": null,
     "exception": null,
     "start_time": null,
     "status": "pending"
    },
    "tags": []
   },
   "outputs": [],
   "source": [
    "for columns in data.columns:\n",
    "    print(columns)\n",
    "    sns.boxplot(data[columns])\n",
    "    plt.show()"
   ]
  },
  {
   "cell_type": "code",
   "execution_count": null,
   "id": "083adb15",
   "metadata": {
    "execution": {
     "iopub.execute_input": "2023-07-30T07:10:04.789369Z",
     "iopub.status.busy": "2023-07-30T07:10:04.788945Z",
     "iopub.status.idle": "2023-07-30T07:10:04.807920Z",
     "shell.execute_reply": "2023-07-30T07:10:04.806589Z",
     "shell.execute_reply.started": "2023-07-30T07:10:04.789333Z"
    },
    "papermill": {
     "duration": null,
     "end_time": null,
     "exception": null,
     "start_time": null,
     "status": "pending"
    },
    "tags": []
   },
   "outputs": [],
   "source": [
    "## removing oputlier using IQR in pressurelow and age columns\n",
    "# Calculate IQR for age column \n",
    "Q1 = data['age'].quantile(0.25) \n",
    "Q3 = data['age'].quantile(0.75) \n",
    "IQR = Q3 - Q1 \n",
    "\n",
    "# Remove outliers from age column \n",
    "data = data[~((data['age'] < (Q1 - 1.5 * IQR)) |(data['age'] > (Q3 + 1.5 * IQR)))]\n",
    "\n",
    "# Calculate IQR for pressure low column \n",
    "\n",
    "Q1 = data['pressurelow'].quantile(0.25) \n",
    "Q3 = data['pressurelow'].quantile(0.75) \n",
    "IQR = Q3 - Q1 \n",
    "\n",
    "# Remove outliers from pressure low column \n",
    "data = data[~((data['pressurelow'] < (Q1 - 1.5 * IQR)) |(data['pressurelow'] > (Q3 + 1.5 * IQR)))]"
   ]
  },
  {
   "cell_type": "code",
   "execution_count": null,
   "id": "02b93a86",
   "metadata": {
    "execution": {
     "iopub.execute_input": "2023-07-30T07:10:04.810616Z",
     "iopub.status.busy": "2023-07-30T07:10:04.810148Z",
     "iopub.status.idle": "2023-07-30T07:10:04.823291Z",
     "shell.execute_reply": "2023-07-30T07:10:04.822100Z",
     "shell.execute_reply.started": "2023-07-30T07:10:04.810571Z"
    },
    "papermill": {
     "duration": null,
     "end_time": null,
     "exception": null,
     "start_time": null,
     "status": "pending"
    },
    "tags": []
   },
   "outputs": [],
   "source": [
    "## removing outlier in impulse where value is greater than 600\n",
    "data = data[data['impluse'] <= 600]\n",
    "\n",
    "Q1 = data['impluse'].quantile(0.25) \n",
    "Q3 = data['impluse'].quantile(0.75) \n",
    "IQR = Q3 - Q1 \n",
    "\n",
    "# Remove outliers from pressure low column \n",
    "data = data[~((data['impluse'] < (Q1 - 1.5 * IQR)) )]"
   ]
  },
  {
   "cell_type": "code",
   "execution_count": null,
   "id": "e63fb408",
   "metadata": {
    "execution": {
     "iopub.execute_input": "2023-07-30T07:10:04.825619Z",
     "iopub.status.busy": "2023-07-30T07:10:04.824883Z",
     "iopub.status.idle": "2023-07-30T07:10:04.849887Z",
     "shell.execute_reply": "2023-07-30T07:10:04.848436Z",
     "shell.execute_reply.started": "2023-07-30T07:10:04.825575Z"
    },
    "papermill": {
     "duration": null,
     "end_time": null,
     "exception": null,
     "start_time": null,
     "status": "pending"
    },
    "tags": []
   },
   "outputs": [],
   "source": [
    "## removing oultier in pressure height\n",
    "Q1 = data['pressurehight'].quantile(0.25) \n",
    "Q3 = data['pressurehight'].quantile(0.75) \n",
    "IQR = Q3 - Q1 \n",
    "\n",
    "# Remove outliers from pressure low column \n",
    "data = data[~((data['pressurehight'] < (Q1 - 1.5 * IQR)) )]"
   ]
  },
  {
   "cell_type": "code",
   "execution_count": null,
   "id": "424bcfcb",
   "metadata": {
    "execution": {
     "iopub.execute_input": "2023-07-30T07:10:04.852496Z",
     "iopub.status.busy": "2023-07-30T07:10:04.851756Z",
     "iopub.status.idle": "2023-07-30T07:10:07.129847Z",
     "shell.execute_reply": "2023-07-30T07:10:07.128970Z",
     "shell.execute_reply.started": "2023-07-30T07:10:04.852439Z"
    },
    "papermill": {
     "duration": null,
     "end_time": null,
     "exception": null,
     "start_time": null,
     "status": "pending"
    },
    "tags": []
   },
   "outputs": [],
   "source": [
    "for columns in data.columns:\n",
    "    print(columns)\n",
    "    sns.kdeplot(data[columns])\n",
    "    plt.show()"
   ]
  },
  {
   "cell_type": "code",
   "execution_count": null,
   "id": "ec203a49",
   "metadata": {
    "papermill": {
     "duration": null,
     "end_time": null,
     "exception": null,
     "start_time": null,
     "status": "pending"
    },
    "tags": []
   },
   "outputs": [],
   "source": []
  },
  {
   "cell_type": "code",
   "execution_count": null,
   "id": "63ae6764",
   "metadata": {
    "execution": {
     "iopub.execute_input": "2023-07-30T07:10:07.133814Z",
     "iopub.status.busy": "2023-07-30T07:10:07.132974Z",
     "iopub.status.idle": "2023-07-30T07:10:07.140966Z",
     "shell.execute_reply": "2023-07-30T07:10:07.140158Z",
     "shell.execute_reply.started": "2023-07-30T07:10:07.133772Z"
    },
    "papermill": {
     "duration": null,
     "end_time": null,
     "exception": null,
     "start_time": null,
     "status": "pending"
    },
    "tags": []
   },
   "outputs": [],
   "source": [
    "data.columns"
   ]
  },
  {
   "cell_type": "code",
   "execution_count": null,
   "id": "84c6bdf9",
   "metadata": {
    "execution": {
     "iopub.execute_input": "2023-07-30T07:10:07.143129Z",
     "iopub.status.busy": "2023-07-30T07:10:07.142442Z",
     "iopub.status.idle": "2023-07-30T07:10:07.156764Z",
     "shell.execute_reply": "2023-07-30T07:10:07.155198Z",
     "shell.execute_reply.started": "2023-07-30T07:10:07.143094Z"
    },
    "papermill": {
     "duration": null,
     "end_time": null,
     "exception": null,
     "start_time": null,
     "status": "pending"
    },
    "tags": []
   },
   "outputs": [],
   "source": [
    "## we can use log transform on glucose kcm and troponin\n",
    "from sklearn.pipeline import Pipeline,make_pipeline\n",
    "from sklearn.compose import ColumnTransformer"
   ]
  },
  {
   "cell_type": "code",
   "execution_count": null,
   "id": "815e5632",
   "metadata": {
    "execution": {
     "iopub.execute_input": "2023-07-30T07:10:07.159402Z",
     "iopub.status.busy": "2023-07-30T07:10:07.158291Z",
     "iopub.status.idle": "2023-07-30T07:10:07.176615Z",
     "shell.execute_reply": "2023-07-30T07:10:07.175505Z",
     "shell.execute_reply.started": "2023-07-30T07:10:07.159357Z"
    },
    "papermill": {
     "duration": null,
     "end_time": null,
     "exception": null,
     "start_time": null,
     "status": "pending"
    },
    "tags": []
   },
   "outputs": [],
   "source": [
    "data['class'].value_counts()"
   ]
  },
  {
   "cell_type": "code",
   "execution_count": null,
   "id": "16618d9d",
   "metadata": {
    "execution": {
     "iopub.execute_input": "2023-07-30T07:10:07.179540Z",
     "iopub.status.busy": "2023-07-30T07:10:07.178148Z",
     "iopub.status.idle": "2023-07-30T07:10:44.622943Z",
     "shell.execute_reply": "2023-07-30T07:10:44.621599Z",
     "shell.execute_reply.started": "2023-07-30T07:10:07.179468Z"
    },
    "papermill": {
     "duration": null,
     "end_time": null,
     "exception": null,
     "start_time": null,
     "status": "pending"
    },
    "tags": []
   },
   "outputs": [],
   "source": [
    "sns.pairplot(data, hue='class', diag_kind='hist')\n",
    "plt.show()"
   ]
  },
  {
   "cell_type": "code",
   "execution_count": null,
   "id": "91dc3ed2",
   "metadata": {
    "execution": {
     "iopub.execute_input": "2023-07-30T07:11:04.654520Z",
     "iopub.status.busy": "2023-07-30T07:11:04.654130Z",
     "iopub.status.idle": "2023-07-30T07:11:04.660634Z",
     "shell.execute_reply": "2023-07-30T07:11:04.659637Z",
     "shell.execute_reply.started": "2023-07-30T07:11:04.654490Z"
    },
    "papermill": {
     "duration": null,
     "end_time": null,
     "exception": null,
     "start_time": null,
     "status": "pending"
    },
    "tags": []
   },
   "outputs": [],
   "source": [
    "from sklearn.compose import ColumnTransformer\n",
    "from sklearn.preprocessing import MinMaxScaler\n",
    "\n",
    "\n",
    "## scaling\n",
    "columns=data.columns[0:8]\n",
    "trf1=ColumnTransformer([\n",
    "    ('scaling',MinMaxScaler(), columns)\n",
    "],)"
   ]
  },
  {
   "cell_type": "code",
   "execution_count": null,
   "id": "ddca9c64",
   "metadata": {
    "execution": {
     "iopub.execute_input": "2023-07-30T07:11:06.143236Z",
     "iopub.status.busy": "2023-07-30T07:11:06.142776Z",
     "iopub.status.idle": "2023-07-30T07:11:06.148367Z",
     "shell.execute_reply": "2023-07-30T07:11:06.147250Z",
     "shell.execute_reply.started": "2023-07-30T07:11:06.143191Z"
    },
    "papermill": {
     "duration": null,
     "end_time": null,
     "exception": null,
     "start_time": null,
     "status": "pending"
    },
    "tags": []
   },
   "outputs": [],
   "source": [
    "## Feature selection\n",
    "from sklearn.feature_selection import SelectKBest,chi2\n",
    "\n",
    "trf2=SelectKBest(score_func=chi2, k=4)"
   ]
  },
  {
   "cell_type": "code",
   "execution_count": null,
   "id": "16d4f0a3",
   "metadata": {
    "execution": {
     "iopub.execute_input": "2023-07-30T07:11:06.453778Z",
     "iopub.status.busy": "2023-07-30T07:11:06.452967Z",
     "iopub.status.idle": "2023-07-30T07:11:09.483618Z",
     "shell.execute_reply": "2023-07-30T07:11:09.482449Z",
     "shell.execute_reply.started": "2023-07-30T07:11:06.453742Z"
    },
    "papermill": {
     "duration": null,
     "end_time": null,
     "exception": null,
     "start_time": null,
     "status": "pending"
    },
    "tags": []
   },
   "outputs": [],
   "source": []
  },
  {
   "cell_type": "code",
   "execution_count": null,
   "id": "595aada6",
   "metadata": {
    "execution": {
     "iopub.execute_input": "2023-07-30T07:21:32.500564Z",
     "iopub.status.busy": "2023-07-30T07:21:32.500141Z",
     "iopub.status.idle": "2023-07-30T07:21:32.635707Z",
     "shell.execute_reply": "2023-07-30T07:21:32.634589Z",
     "shell.execute_reply.started": "2023-07-30T07:21:32.500532Z"
    },
    "papermill": {
     "duration": null,
     "end_time": null,
     "exception": null,
     "start_time": null,
     "status": "pending"
    },
    "tags": []
   },
   "outputs": [],
   "source": [
    "# train the model\n",
    "from sklearn.ensemble import RandomForestClassifier\n",
    "\n",
    "trf3 = RandomForestClassifier()"
   ]
  },
  {
   "cell_type": "code",
   "execution_count": null,
   "id": "91e37c7a",
   "metadata": {
    "execution": {
     "iopub.execute_input": "2023-07-30T07:21:34.278574Z",
     "iopub.status.busy": "2023-07-30T07:21:34.278161Z",
     "iopub.status.idle": "2023-07-30T07:21:34.284268Z",
     "shell.execute_reply": "2023-07-30T07:21:34.283151Z",
     "shell.execute_reply.started": "2023-07-30T07:21:34.278539Z"
    },
    "papermill": {
     "duration": null,
     "end_time": null,
     "exception": null,
     "start_time": null,
     "status": "pending"
    },
    "tags": []
   },
   "outputs": [],
   "source": [
    "pipe = Pipeline([\n",
    "    ('trf1',trf1),\n",
    "    ('trf2',trf2),\n",
    "    ('trf3',trf3)\n",
    "])"
   ]
  },
  {
   "cell_type": "code",
   "execution_count": null,
   "id": "a92d15c3",
   "metadata": {
    "execution": {
     "iopub.execute_input": "2023-07-30T07:21:34.752859Z",
     "iopub.status.busy": "2023-07-30T07:21:34.752400Z",
     "iopub.status.idle": "2023-07-30T07:21:34.761463Z",
     "shell.execute_reply": "2023-07-30T07:21:34.760216Z",
     "shell.execute_reply.started": "2023-07-30T07:21:34.752794Z"
    },
    "papermill": {
     "duration": null,
     "end_time": null,
     "exception": null,
     "start_time": null,
     "status": "pending"
    },
    "tags": []
   },
   "outputs": [],
   "source": [
    "from sklearn.model_selection import train_test_split \n",
    "X = data.drop('class', axis=1) \n",
    "\n",
    "y = data['class'] \n",
    "X_train, X_test, y_train, y_test = train_test_split(X, y, test_size=0.2)"
   ]
  },
  {
   "cell_type": "code",
   "execution_count": null,
   "id": "65f06a35",
   "metadata": {
    "execution": {
     "iopub.execute_input": "2023-07-30T07:21:36.565993Z",
     "iopub.status.busy": "2023-07-30T07:21:36.565408Z",
     "iopub.status.idle": "2023-07-30T07:21:36.882483Z",
     "shell.execute_reply": "2023-07-30T07:21:36.880286Z",
     "shell.execute_reply.started": "2023-07-30T07:21:36.565944Z"
    },
    "papermill": {
     "duration": null,
     "end_time": null,
     "exception": null,
     "start_time": null,
     "status": "pending"
    },
    "tags": []
   },
   "outputs": [],
   "source": [
    "pipe.fit(X_train,y_train)"
   ]
  },
  {
   "cell_type": "code",
   "execution_count": null,
   "id": "1f01c98a",
   "metadata": {
    "execution": {
     "iopub.execute_input": "2023-07-30T07:21:40.589262Z",
     "iopub.status.busy": "2023-07-30T07:21:40.588160Z",
     "iopub.status.idle": "2023-07-30T07:21:40.615593Z",
     "shell.execute_reply": "2023-07-30T07:21:40.614332Z",
     "shell.execute_reply.started": "2023-07-30T07:21:40.589219Z"
    },
    "papermill": {
     "duration": null,
     "end_time": null,
     "exception": null,
     "start_time": null,
     "status": "pending"
    },
    "tags": []
   },
   "outputs": [],
   "source": [
    "y_pred = pipe.predict(X_test)"
   ]
  },
  {
   "cell_type": "code",
   "execution_count": null,
   "id": "6c04b64c",
   "metadata": {
    "execution": {
     "iopub.execute_input": "2023-07-30T07:21:41.901078Z",
     "iopub.status.busy": "2023-07-30T07:21:41.900334Z",
     "iopub.status.idle": "2023-07-30T07:21:41.909652Z",
     "shell.execute_reply": "2023-07-30T07:21:41.908401Z",
     "shell.execute_reply.started": "2023-07-30T07:21:41.901037Z"
    },
    "papermill": {
     "duration": null,
     "end_time": null,
     "exception": null,
     "start_time": null,
     "status": "pending"
    },
    "tags": []
   },
   "outputs": [],
   "source": [
    "from sklearn.metrics import accuracy_score\n",
    "accuracy_score(y_test,y_pred)"
   ]
  },
  {
   "cell_type": "code",
   "execution_count": null,
   "id": "6e4af18a",
   "metadata": {
    "execution": {
     "iopub.execute_input": "2023-07-30T07:21:42.953717Z",
     "iopub.status.busy": "2023-07-30T07:21:42.953321Z",
     "iopub.status.idle": "2023-07-30T07:21:44.083147Z",
     "shell.execute_reply": "2023-07-30T07:21:44.081797Z",
     "shell.execute_reply.started": "2023-07-30T07:21:42.953684Z"
    },
    "papermill": {
     "duration": null,
     "end_time": null,
     "exception": null,
     "start_time": null,
     "status": "pending"
    },
    "tags": []
   },
   "outputs": [],
   "source": [
    "# cross validation using cross_val_score\n",
    "from sklearn.model_selection import cross_val_score\n",
    "cross_val_score(pipe, X_train, y_train, cv=5, scoring='accuracy').mean()"
   ]
  },
  {
   "cell_type": "code",
   "execution_count": null,
   "id": "802c9092",
   "metadata": {
    "execution": {
     "iopub.execute_input": "2023-07-30T07:21:46.479845Z",
     "iopub.status.busy": "2023-07-30T07:21:46.479158Z",
     "iopub.status.idle": "2023-07-30T07:21:46.484225Z",
     "shell.execute_reply": "2023-07-30T07:21:46.483214Z",
     "shell.execute_reply.started": "2023-07-30T07:21:46.479791Z"
    },
    "papermill": {
     "duration": null,
     "end_time": null,
     "exception": null,
     "start_time": null,
     "status": "pending"
    },
    "tags": []
   },
   "outputs": [],
   "source": [
    "# gridsearchcv\n",
    "params = {\n",
    "    'trf3__max_depth':[1,2,3,4,5,None]\n",
    "}"
   ]
  },
  {
   "cell_type": "code",
   "execution_count": null,
   "id": "c5e1193b",
   "metadata": {
    "execution": {
     "iopub.execute_input": "2023-07-30T07:21:50.647515Z",
     "iopub.status.busy": "2023-07-30T07:21:50.646061Z",
     "iopub.status.idle": "2023-07-30T07:21:57.432524Z",
     "shell.execute_reply": "2023-07-30T07:21:57.431312Z",
     "shell.execute_reply.started": "2023-07-30T07:21:50.647462Z"
    },
    "papermill": {
     "duration": null,
     "end_time": null,
     "exception": null,
     "start_time": null,
     "status": "pending"
    },
    "tags": []
   },
   "outputs": [],
   "source": [
    "from sklearn.model_selection import GridSearchCV\n",
    "grid = GridSearchCV(pipe, params, cv=5, scoring='accuracy')\n",
    "grid.fit(X_train, y_train)"
   ]
  },
  {
   "cell_type": "code",
   "execution_count": null,
   "id": "25fa3cf0",
   "metadata": {
    "execution": {
     "iopub.execute_input": "2023-07-30T07:22:00.028707Z",
     "iopub.status.busy": "2023-07-30T07:22:00.028278Z",
     "iopub.status.idle": "2023-07-30T07:22:00.038037Z",
     "shell.execute_reply": "2023-07-30T07:22:00.036381Z",
     "shell.execute_reply.started": "2023-07-30T07:22:00.028670Z"
    },
    "papermill": {
     "duration": null,
     "end_time": null,
     "exception": null,
     "start_time": null,
     "status": "pending"
    },
    "tags": []
   },
   "outputs": [],
   "source": [
    "grid.best_score_"
   ]
  },
  {
   "cell_type": "code",
   "execution_count": null,
   "id": "1a51219e",
   "metadata": {
    "execution": {
     "iopub.execute_input": "2023-07-30T07:22:00.335865Z",
     "iopub.status.busy": "2023-07-30T07:22:00.335445Z",
     "iopub.status.idle": "2023-07-30T07:22:00.342580Z",
     "shell.execute_reply": "2023-07-30T07:22:00.341301Z",
     "shell.execute_reply.started": "2023-07-30T07:22:00.335797Z"
    },
    "papermill": {
     "duration": null,
     "end_time": null,
     "exception": null,
     "start_time": null,
     "status": "pending"
    },
    "tags": []
   },
   "outputs": [],
   "source": [
    "grid.best_params_"
   ]
  },
  {
   "cell_type": "code",
   "execution_count": null,
   "id": "0984c847",
   "metadata": {
    "execution": {
     "iopub.execute_input": "2023-07-30T07:26:41.013467Z",
     "iopub.status.busy": "2023-07-30T07:26:41.013009Z",
     "iopub.status.idle": "2023-07-30T07:26:46.639474Z",
     "shell.execute_reply": "2023-07-30T07:26:46.638017Z",
     "shell.execute_reply.started": "2023-07-30T07:26:41.013433Z"
    },
    "papermill": {
     "duration": null,
     "end_time": null,
     "exception": null,
     "start_time": null,
     "status": "pending"
    },
    "tags": []
   },
   "outputs": [],
   "source": [
    "data.sketch.ask(\"draw roc curve and show code\")"
   ]
  },
  {
   "cell_type": "code",
   "execution_count": null,
   "id": "68698516",
   "metadata": {
    "execution": {
     "iopub.execute_input": "2023-07-30T07:22:12.389218Z",
     "iopub.status.busy": "2023-07-30T07:22:12.388790Z",
     "iopub.status.idle": "2023-07-30T07:22:12.405836Z",
     "shell.execute_reply": "2023-07-30T07:22:12.404597Z",
     "shell.execute_reply.started": "2023-07-30T07:22:12.389184Z"
    },
    "papermill": {
     "duration": null,
     "end_time": null,
     "exception": null,
     "start_time": null,
     "status": "pending"
    },
    "tags": []
   },
   "outputs": [],
   "source": [
    "from sklearn.metrics import accuracy_score, precision_score, recall_score, f1_score \n",
    "\n",
    "# Split data into features (X) and labels (y) X = data.drop('class', axis=1) y = data['class'] # Fit a model to the data model.fit(X, y) # Make predictions on the test set y_pred = model.predict(X) # Calculate accuracy, precision, recall, and F1 scores \n",
    "\n",
    "accuracy = accuracy_score(y_test, y_pred) \n",
    "print(\"accuracy:\",accuracy)\n",
    "precision = precision_score(y_test, y_pred) \n",
    "print(\"precision:\",precision)\n",
    "recall = recall_score(y_test, y_pred) \n",
    "print(\"recall:\",recall)\n",
    "f1 = f1_score(y_test, y_pred)\n",
    "print(\"f1_score:\",f1)"
   ]
  },
  {
   "cell_type": "code",
   "execution_count": null,
   "id": "3c8f9db5",
   "metadata": {
    "execution": {
     "iopub.execute_input": "2023-07-30T07:23:41.507378Z",
     "iopub.status.busy": "2023-07-30T07:23:41.506916Z",
     "iopub.status.idle": "2023-07-30T07:23:41.830802Z",
     "shell.execute_reply": "2023-07-30T07:23:41.827979Z",
     "shell.execute_reply.started": "2023-07-30T07:23:41.507339Z"
    },
    "papermill": {
     "duration": null,
     "end_time": null,
     "exception": null,
     "start_time": null,
     "status": "pending"
    },
    "tags": []
   },
   "outputs": [],
   "source": [
    "from sklearn.metrics import confusion_matrix \n",
    "# Get the confusion matrix \n",
    "cm = confusion_matrix(y_test, y_pred)\n",
    "\n",
    "# Plot the heatmap \n",
    "sns.heatmap(cm, annot=True, fmt='d')"
   ]
  },
  {
   "cell_type": "raw",
   "id": "739dc2c4",
   "metadata": {
    "papermill": {
     "duration": null,
     "end_time": null,
     "exception": null,
     "start_time": null,
     "status": "pending"
    },
    "tags": []
   },
   "source": [
    "### the confusion matrix shows that the model correctly classified 165 instances of class 1 and 91 instances of class 0. It misclassified 2 instances of class 0 as class 1 and 1 instance of class 1 as class 0."
   ]
  },
  {
   "cell_type": "code",
   "execution_count": null,
   "id": "d401834e",
   "metadata": {
    "execution": {
     "iopub.execute_input": "2023-07-30T07:28:14.480370Z",
     "iopub.status.busy": "2023-07-30T07:28:14.479935Z",
     "iopub.status.idle": "2023-07-30T07:28:14.757783Z",
     "shell.execute_reply": "2023-07-30T07:28:14.756535Z",
     "shell.execute_reply.started": "2023-07-30T07:28:14.480335Z"
    },
    "papermill": {
     "duration": null,
     "end_time": null,
     "exception": null,
     "start_time": null,
     "status": "pending"
    },
    "tags": []
   },
   "outputs": [],
   "source": [
    "from sklearn.metrics import roc_curve, auc \n",
    "\n",
    "# Get the predicted probabilities for each class \n",
    "\n",
    "# Compute ROC curve and ROC area for each class \n",
    "fpr, tpr, _ = roc_curve(y_test, y_pred) \n",
    "roc_auc = auc(fpr, tpr)\n",
    "\n",
    "# Plot of a ROC curve for a specific class plt.figure() \n",
    "lw = 2\n",
    "plt.plot(fpr, tpr, color='darkorange', lw=lw, label='ROC curve (area = %0.2f)' % roc_auc)\n",
    "\n",
    "plt.plot([0, 1], [0, 1], color='navy', lw=lw, linestyle='--')\n",
    "\n",
    "plt.xlim([0.0, 1.0])\n",
    "plt.ylim([0.0, 1.05])\n",
    "plt.xlabel('False Positive Rate') \n",
    "plt.ylabel('True Positive Rate') \n",
    "plt.title('Receiver operating characteristic example') \n",
    "plt.legend(loc=\"lower right\")\n",
    "plt.show()"
   ]
  },
  {
   "cell_type": "code",
   "execution_count": null,
   "id": "9bbbe1f8",
   "metadata": {
    "execution": {
     "iopub.execute_input": "2023-07-30T07:30:15.162014Z",
     "iopub.status.busy": "2023-07-30T07:30:15.161519Z",
     "iopub.status.idle": "2023-07-30T07:30:15.173176Z",
     "shell.execute_reply": "2023-07-30T07:30:15.172005Z",
     "shell.execute_reply.started": "2023-07-30T07:30:15.161975Z"
    },
    "papermill": {
     "duration": null,
     "end_time": null,
     "exception": null,
     "start_time": null,
     "status": "pending"
    },
    "tags": []
   },
   "outputs": [],
   "source": [
    "# Code here\n",
    "pipe.named_steps"
   ]
  },
  {
   "cell_type": "code",
   "execution_count": null,
   "id": "a55582a3",
   "metadata": {
    "execution": {
     "iopub.execute_input": "2023-07-30T07:42:16.070100Z",
     "iopub.status.busy": "2023-07-30T07:42:16.069704Z",
     "iopub.status.idle": "2023-07-30T07:42:16.079494Z",
     "shell.execute_reply": "2023-07-30T07:42:16.078192Z",
     "shell.execute_reply.started": "2023-07-30T07:42:16.070066Z"
    },
    "papermill": {
     "duration": null,
     "end_time": null,
     "exception": null,
     "start_time": null,
     "status": "pending"
    },
    "tags": []
   },
   "outputs": [],
   "source": [
    "print(data.columns)\n",
    "\n",
    "trf2.get_support()\n",
    "\n",
    "## age,gender,kcm,tropin"
   ]
  },
  {
   "cell_type": "code",
   "execution_count": null,
   "id": "c0accbc0",
   "metadata": {
    "papermill": {
     "duration": null,
     "end_time": null,
     "exception": null,
     "start_time": null,
     "status": "pending"
    },
    "tags": []
   },
   "outputs": [],
   "source": [
    "# export \n",
    "import pickle\n",
    "pickle.dump(pipe,open('pipe.pkl','wb'))"
   ]
  }
 ],
 "metadata": {
  "kernelspec": {
   "display_name": "Python 3",
   "language": "python",
   "name": "python3"
  },
  "language_info": {
   "codemirror_mode": {
    "name": "ipython",
    "version": 3
   },
   "file_extension": ".py",
   "mimetype": "text/x-python",
   "name": "python",
   "nbconvert_exporter": "python",
   "pygments_lexer": "ipython3",
   "version": "3.10.12"
  },
  "papermill": {
   "default_parameters": {},
   "duration": 14.870623,
   "end_time": "2023-07-30T09:33:54.550717",
   "environment_variables": {},
   "exception": true,
   "input_path": "__notebook__.ipynb",
   "output_path": "__notebook__.ipynb",
   "parameters": {},
   "start_time": "2023-07-30T09:33:39.680094",
   "version": "2.4.0"
  }
 },
 "nbformat": 4,
 "nbformat_minor": 5
}
